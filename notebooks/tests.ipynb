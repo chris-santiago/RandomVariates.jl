{
 "cells": [
  {
   "cell_type": "markdown",
   "id": "5f3b2c56-a2bc-4ddf-889a-4dfe6c760adc",
   "metadata": {},
   "source": [
    "# Random Variates"
   ]
  },
  {
   "cell_type": "markdown",
   "id": "7277683d-a20e-4d79-af46-dc06b452c547",
   "metadata": {},
   "source": [
    "## Preliminaries"
   ]
  },
  {
   "cell_type": "code",
   "execution_count": 1,
   "id": "2e6a4f63-97b0-4636-8d35-4be81f5b3b9a",
   "metadata": {},
   "outputs": [
    {
     "name": "stderr",
     "output_type": "stream",
     "text": [
      "\u001b[32m\u001b[1m  Activating\u001b[22m\u001b[39m environment at `~/Github/RandomVariates.jl/Project.toml`\n"
     ]
    }
   ],
   "source": [
    "using Pkg\n",
    "\n",
    "Pkg.activate(\".\")"
   ]
  },
  {
   "cell_type": "code",
   "execution_count": 11,
   "id": "89e3e908-a916-47eb-b29f-d8fdaac7d6b0",
   "metadata": {},
   "outputs": [],
   "source": [
    "using Random\n",
    "using RandomVariates\n",
    "using Statistics\n",
    "using Distributions\n",
    "using HypothesisTests\n",
    "using Gadfly\n",
    "import Cairo, Fontconfig"
   ]
  },
  {
   "cell_type": "code",
   "execution_count": 52,
   "id": "92f657bb-651b-45e0-b9ed-4b98e5071e6b",
   "metadata": {},
   "outputs": [
    {
     "data": {
      "text/plain": [
       "1000000"
      ]
     },
     "execution_count": 52,
     "metadata": {},
     "output_type": "execute_result"
    }
   ],
   "source": [
    "n = 1000000"
   ]
  },
  {
   "cell_type": "markdown",
   "id": "eab2cdcb-86e7-454a-b856-8ce83bb6665d",
   "metadata": {},
   "source": [
    "## Uniform RNG Tests"
   ]
  },
  {
   "cell_type": "code",
   "execution_count": 81,
   "id": "6e12a3c5-2c8c-4279-9b5a-01413f65bca4",
   "metadata": {},
   "outputs": [
    {
     "data": {
      "text/plain": [
       "Uniform{Float64}(a=0.0, b=1.0)"
      ]
     },
     "execution_count": 81,
     "metadata": {},
     "output_type": "execute_result"
    }
   ],
   "source": [
    "x = uniform_rng(0, 1, n)\n",
    "d = Uniform()"
   ]
  },
  {
   "cell_type": "code",
   "execution_count": 82,
   "id": "bf4e7d06-e950-4b84-8991-e792062fffc6",
   "metadata": {},
   "outputs": [
    {
     "data": {
      "text/plain": [
       "Exact one sample Kolmogorov-Smirnov test\n",
       "----------------------------------------\n",
       "Population details:\n",
       "    parameter of interest:   Supremum of CDF differences\n",
       "    value under h_0:         0.0\n",
       "    point estimate:          0.000567422\n",
       "\n",
       "Test summary:\n",
       "    outcome with 95% confidence: fail to reject h_0\n",
       "    two-sided p-value:           0.9043\n",
       "\n",
       "Details:\n",
       "    number of observations:   1000000\n"
      ]
     },
     "execution_count": 82,
     "metadata": {},
     "output_type": "execute_result"
    }
   ],
   "source": [
    "ExactOneSampleKSTest(x, d)"
   ]
  },
  {
   "cell_type": "code",
   "execution_count": 83,
   "id": "4706e2bc-2d91-4f97-94e6-a76eb776c064",
   "metadata": {},
   "outputs": [
    {
     "data": {
      "text/plain": [
       "Wald-Wolfowitz Test\n",
       "-------------------\n",
       "Population details:\n",
       "    parameter of interest:   Number of runs\n",
       "    value under h_0:         500001.0\n",
       "    point estimate:          500748\n",
       "\n",
       "Test summary:\n",
       "    outcome with 95% confidence: fail to reject h_0\n",
       "    two-sided p-value:           0.1352\n",
       "\n",
       "Details:\n",
       "    number of runs:  500748\n",
       "    z-statistic:     1.4940007470013072\n"
      ]
     },
     "execution_count": 83,
     "metadata": {},
     "output_type": "execute_result"
    }
   ],
   "source": [
    "WaldWolfowitzTest(x)"
   ]
  },
  {
   "cell_type": "code",
   "execution_count": 84,
   "id": "ba324411-5bbc-41ad-9c43-fd0e14112294",
   "metadata": {
    "tags": []
   },
   "outputs": [
    {
     "data": {
      "text/plain": [
       "Box-Pierce autocorrelation test\n",
       "-------------------------------\n",
       "Population details:\n",
       "    parameter of interest:   autocorrelations up to lag k\n",
       "    value under h_0:         \"all zero\"\n",
       "    point estimate:          NaN\n",
       "\n",
       "Test summary:\n",
       "    outcome with 95% confidence: fail to reject h_0\n",
       "    one-sided p-value:           0.5671\n",
       "\n",
       "Details:\n",
       "    number of observations:         1000000\n",
       "    number of lags:                 5\n",
       "    degrees of freedom correction:  0\n",
       "    Q statistic:                    3.87782\n"
      ]
     },
     "execution_count": 84,
     "metadata": {},
     "output_type": "execute_result"
    }
   ],
   "source": [
    "BoxPierceTest(x, 5)"
   ]
  },
  {
   "cell_type": "markdown",
   "id": "c1d54ab0-b48c-4dff-bcc9-1ac5c93dd861",
   "metadata": {},
   "source": [
    "## Normal RNG Tests"
   ]
  },
  {
   "cell_type": "code",
   "execution_count": 85,
   "id": "6de28181-efcd-4379-9806-bcfe0c176203",
   "metadata": {},
   "outputs": [
    {
     "data": {
      "text/plain": [
       "Normal{Float64}(μ=0.0, σ=1.0)"
      ]
     },
     "execution_count": 85,
     "metadata": {},
     "output_type": "execute_result"
    }
   ],
   "source": [
    "x = normal_rng(0, 1, n)\n",
    "d = Normal()"
   ]
  },
  {
   "cell_type": "code",
   "execution_count": 86,
   "id": "db3c9738-f4df-44d9-8489-182f13901cfa",
   "metadata": {},
   "outputs": [
    {
     "data": {
      "text/plain": [
       "Exact one sample Kolmogorov-Smirnov test\n",
       "----------------------------------------\n",
       "Population details:\n",
       "    parameter of interest:   Supremum of CDF differences\n",
       "    value under h_0:         0.0\n",
       "    point estimate:          0.000936714\n",
       "\n",
       "Test summary:\n",
       "    outcome with 95% confidence: fail to reject h_0\n",
       "    two-sided p-value:           0.3441\n",
       "\n",
       "Details:\n",
       "    number of observations:   1000000\n"
      ]
     },
     "execution_count": 86,
     "metadata": {},
     "output_type": "execute_result"
    }
   ],
   "source": [
    "ExactOneSampleKSTest(x, d)"
   ]
  },
  {
   "cell_type": "code",
   "execution_count": 87,
   "id": "64ae7ccd-99f4-4bf3-9721-dabb55ea1f37",
   "metadata": {},
   "outputs": [
    {
     "data": {
      "text/plain": [
       "Wald-Wolfowitz Test\n",
       "-------------------\n",
       "Population details:\n",
       "    parameter of interest:   Number of runs\n",
       "    value under h_0:         500001.0\n",
       "    point estimate:          499282\n",
       "\n",
       "Test summary:\n",
       "    outcome with 95% confidence: fail to reject h_0\n",
       "    two-sided p-value:           0.1504\n",
       "\n",
       "Details:\n",
       "    number of runs:  499282\n",
       "    z-statistic:     -1.4380007190012583\n"
      ]
     },
     "execution_count": 87,
     "metadata": {},
     "output_type": "execute_result"
    }
   ],
   "source": [
    "WaldWolfowitzTest(x)"
   ]
  },
  {
   "cell_type": "markdown",
   "id": "67fb5406-4f03-4438-ad2e-4d005879932c",
   "metadata": {},
   "source": [
    "## Poisson RNG Tests"
   ]
  },
  {
   "cell_type": "code",
   "execution_count": 104,
   "id": "1cf81473-495d-4683-92dd-f9da663a10f5",
   "metadata": {},
   "outputs": [
    {
     "data": {
      "text/plain": [
       "Poisson{Float64}(λ=12.0171)"
      ]
     },
     "execution_count": 104,
     "metadata": {},
     "output_type": "execute_result"
    }
   ],
   "source": [
    "n = 10000\n",
    "x = poisson_rng(12, n)\n",
    "d = fit(Poisson, x)"
   ]
  },
  {
   "cell_type": "code",
   "execution_count": 122,
   "id": "ef5ee5a1-0b2c-477e-b541-8ec1568c9db7",
   "metadata": {},
   "outputs": [
    {
     "data": {
      "text/plain": [
       "Geometric{Float64}(p=0.27)"
      ]
     },
     "execution_count": 122,
     "metadata": {},
     "output_type": "execute_result"
    }
   ],
   "source": [
    "n = 10000\n",
    "x = geometric_rng(.27, n)\n",
    "d = Geometric(.27)"
   ]
  },
  {
   "cell_type": "code",
   "execution_count": 124,
   "id": "19935b05-bd9b-4448-8c0d-d928ee7891e7",
   "metadata": {},
   "outputs": [
    {
     "name": "stderr",
     "output_type": "stream",
     "text": [
      "┌ Warning: This test is inaccurate with ties\n",
      "└ @ HypothesisTests /Users/christophersantiago/.julia/packages/HypothesisTests/vNU4p/src/kolmogorov_smirnov.jl:112\n"
     ]
    },
    {
     "data": {
      "text/plain": [
       "Approximate one sample Kolmogorov-Smirnov test\n",
       "----------------------------------------------\n",
       "Population details:\n",
       "    parameter of interest:   Supremum of CDF differences\n",
       "    value under h_0:         0.0\n",
       "    point estimate:          0.4671\n",
       "\n",
       "Test summary:\n",
       "    outcome with 95% confidence: reject h_0\n",
       "    two-sided p-value:           <1e-99\n",
       "\n",
       "Details:\n",
       "    number of observations:   10000\n",
       "    KS-statistic:             46.71\n"
      ]
     },
     "execution_count": 124,
     "metadata": {},
     "output_type": "execute_result"
    }
   ],
   "source": [
    "ApproximateOneSampleKSTest(x, d)"
   ]
  },
  {
   "cell_type": "code",
   "execution_count": 127,
   "id": "95f10540-b60f-472e-a7ca-6a3ec627032d",
   "metadata": {},
   "outputs": [
    {
     "data": {
      "text/plain": [
       "3.6507"
      ]
     },
     "execution_count": 127,
     "metadata": {},
     "output_type": "execute_result"
    }
   ],
   "source": [
    "mean(x)"
   ]
  },
  {
   "cell_type": "code",
   "execution_count": 236,
   "id": "1278f7f1-d77d-4918-b80e-fd21de66d8c0",
   "metadata": {},
   "outputs": [
    {
     "data": {
      "text/plain": [
       "geo (generic function with 2 methods)"
      ]
     },
     "execution_count": 236,
     "metadata": {},
     "output_type": "execute_result"
    }
   ],
   "source": [
    "function geo(p::Real, shape::Union{Int, Tuple{Vararg{Int}}}=1; seed::Union{Int, Nothing}=nothing)\n",
    "    c = log(1 - p)\n",
    "    U = uniform_rng(0, 1, shape, seed=seed)\n",
    "    X = zeros(Int, shape)\n",
    "    X = floor.(Int, log.(U) ./ c)  # here sub U for 1-U is fine\n",
    "    return X\n",
    "end\n"
   ]
  },
  {
   "cell_type": "code",
   "execution_count": 227,
   "id": "75a18824-00de-4d02-8bde-265eaf9a6da3",
   "metadata": {},
   "outputs": [
    {
     "data": {
      "text/plain": [
       "Geometric{Float64}(p=0.29930262488402026)"
      ]
     },
     "execution_count": 227,
     "metadata": {},
     "output_type": "execute_result"
    }
   ],
   "source": [
    "x = geo(.3, n)\n",
    "fit(Geometric, x)"
   ]
  },
  {
   "cell_type": "code",
   "execution_count": 189,
   "id": "082d0b8c-79cb-4e5a-a607-84e7b633ae87",
   "metadata": {},
   "outputs": [
    {
     "data": {
      "text/plain": [
       "Geometric{Float64}(p=0.30140454518054133)"
      ]
     },
     "execution_count": 189,
     "metadata": {},
     "output_type": "execute_result"
    }
   ],
   "source": [
    "y = rand(Geometric(.3), 10000)\n",
    "fit(Geometric, y)"
   ]
  },
  {
   "cell_type": "code",
   "execution_count": 239,
   "id": "604a2fcd-58ac-45e8-bd32-1356d9758804",
   "metadata": {},
   "outputs": [
    {
     "name": "stdout",
     "output_type": "stream",
     "text": [
      "  1.241357 seconds (40.00 M allocations: 991.814 MiB)\n"
     ]
    },
    {
     "data": {
      "text/plain": [
       "10000000-element Vector{Int64}:\n",
       " 1\n",
       " 7\n",
       " 5\n",
       " 3\n",
       " 0\n",
       " 6\n",
       " 2\n",
       " 7\n",
       " 1\n",
       " 1\n",
       " 2\n",
       " 3\n",
       " 4\n",
       " ⋮\n",
       " 1\n",
       " 3\n",
       " 0\n",
       " 0\n",
       " 0\n",
       " 1\n",
       " 6\n",
       " 0\n",
       " 2\n",
       " 1\n",
       " 3\n",
       " 0"
      ]
     },
     "execution_count": 239,
     "metadata": {},
     "output_type": "execute_result"
    }
   ],
   "source": [
    "@time geo(.3, n*1000)"
   ]
  },
  {
   "cell_type": "code",
   "execution_count": null,
   "id": "49910abd-21db-4bc6-9cc7-3e883b2e3042",
   "metadata": {},
   "outputs": [],
   "source": []
  }
 ],
 "metadata": {
  "kernelspec": {
   "display_name": "Julia 1.6.5",
   "language": "julia",
   "name": "julia-1.6"
  },
  "language_info": {
   "file_extension": ".jl",
   "mimetype": "application/julia",
   "name": "julia",
   "version": "1.6.5"
  }
 },
 "nbformat": 4,
 "nbformat_minor": 5
}
